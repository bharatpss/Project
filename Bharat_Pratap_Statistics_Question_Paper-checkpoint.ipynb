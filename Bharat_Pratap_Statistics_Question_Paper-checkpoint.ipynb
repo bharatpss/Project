{
 "cells": [
  {
   "cell_type": "markdown",
   "metadata": {},
   "source": [
    "<span style=\"font-family: Arial; font-weight:bold;font-size:1em;color:#f0f0f0;\">..............................................\n",
    "    <span style=\"font-family: Arial; font-weight:bold;font-size:2.5em;color:#c7920e;\">\n",
    "           Statistics Final exam for 70 Marks"
   ]
  },
  {
   "cell_type": "markdown",
   "metadata": {},
   "source": [
    "-------------"
   ]
  },
  {
   "cell_type": "markdown",
   "metadata": {},
   "source": [
    "# 4 Questions X  5 Marks = 20 Marks\n"
   ]
  },
  {
   "cell_type": "code",
   "execution_count": 1,
   "metadata": {},
   "outputs": [],
   "source": [
    "import pandas as pd\n",
    "import numpy as np"
   ]
  },
  {
   "cell_type": "markdown",
   "metadata": {},
   "source": [
    "---------"
   ]
  },
  {
   "cell_type": "markdown",
   "metadata": {},
   "source": [
    "<span style=\"font-family: Arial; font-weight:bold;font-size:1.5em;color:#7d5b06;\">1.Random sample of production rates from 3 assembly lines is given below. Do rates of production differ significantly?\n",
    "Production Rates\n",
    "\n",
    "\n",
    "\n",
    "| OBS|Assembly Line 1 |Assembly Line 2|Assembly Line 3 |\n",
    "| ------- |  ------ |--------------|-----------------|\n",
    "| 1\t|    15                | \t10          |     \t17|\n",
    "| 2\t|    14                | \t14\t        |        12\n",
    "| 3\t|    20\t               |     9\t        |        14|\n",
    "| 4\t|    15                | \t10\t        |        15|\n",
    "| 5\t|    16                |  \t11          |    \t12|\n",
    "\n",
    "A. State Which test to be Performed (1 mark)\n",
    "\n",
    "B. Calculate the test statistic and critical value and p_value  (2 mark)\n",
    "\n",
    "C.interpret the results (1 mark)\n"
   ]
  },
  {
   "cell_type": "markdown",
   "metadata": {},
   "source": [
    "### A. State Which test to be Performed (1 mark)"
   ]
  },
  {
   "cell_type": "raw",
   "metadata": {},
   "source": [
    "One way Anova test is used beacaue for 3 Assembly line with respect to Production rate which is Numeric vs Categorical\n",
    "so, one way anova test is used to mean difference of 3 Assembly line with Production rate."
   ]
  },
  {
   "cell_type": "markdown",
   "metadata": {},
   "source": [
    "### B. Calculate the test statistic and critical value and p_value (2 mark)"
   ]
  },
  {
   "cell_type": "code",
   "execution_count": 91,
   "metadata": {},
   "outputs": [],
   "source": [
    "As1 = np.array([15,14,20,15,16])\n",
    "As2 = np.array([10,14,9,10,11])\n",
    "As3 = np.array([17,12,14,15,12])"
   ]
  },
  {
   "cell_type": "code",
   "execution_count": 92,
   "metadata": {},
   "outputs": [],
   "source": [
    "from scipy.stats import f_oneway, f"
   ]
  },
  {
   "cell_type": "code",
   "execution_count": 93,
   "metadata": {},
   "outputs": [],
   "source": [
    "# 95% confidance interval\n",
    "# level of significance. 5%\n",
    "alpha = 0.05"
   ]
  },
  {
   "cell_type": "code",
   "execution_count": 94,
   "metadata": {},
   "outputs": [],
   "source": [
    "# degree of freedom for Sum of Square Accross 3 groups is 2\n",
    "# degree of freedom for Sum of Square within 3 groups is 15 total sample - number of categories 3\n",
    "dfn = 3 - 1\n",
    "dfd = 15 - 3"
   ]
  },
  {
   "cell_type": "code",
   "execution_count": 95,
   "metadata": {},
   "outputs": [],
   "source": [
    "F_Critical = f.isf(alpha,dfn,dfd)"
   ]
  },
  {
   "cell_type": "code",
   "execution_count": 96,
   "metadata": {},
   "outputs": [
    {
     "name": "stdout",
     "output_type": "stream",
     "text": [
      "3.8852938346523933\n"
     ]
    }
   ],
   "source": [
    "print(F_Critical)"
   ]
  },
  {
   "cell_type": "code",
   "execution_count": 97,
   "metadata": {},
   "outputs": [],
   "source": [
    "F_statistic, P_value = f_oneway(As1, As2, As3)"
   ]
  },
  {
   "cell_type": "code",
   "execution_count": 98,
   "metadata": {},
   "outputs": [
    {
     "name": "stdout",
     "output_type": "stream",
     "text": [
      "F_statistic: 7.532846715328462 \n",
      " P_value: 0.007595782602661818\n"
     ]
    }
   ],
   "source": [
    "print('F_statistic:',F_statistic,'\\n','P_value:',P_value)"
   ]
  },
  {
   "cell_type": "markdown",
   "metadata": {},
   "source": [
    "### C.interpret the results (1 mark)"
   ]
  },
  {
   "cell_type": "raw",
   "metadata": {},
   "source": [
    "Null Hypothesis (H0): no difference between mean of 3 Assembly line for Production rate.\n",
    "Alternate Hypothesis(Ha): significantly difference between mean of 3 Assembly line for Production rate."
   ]
  },
  {
   "cell_type": "raw",
   "metadata": {},
   "source": [
    "So, P_value(0.007) < 0.05, Null Hypothesis is rejected. yes rates of production differ significantly from each other."
   ]
  },
  {
   "cell_type": "markdown",
   "metadata": {},
   "source": [
    "---------"
   ]
  },
  {
   "cell_type": "markdown",
   "metadata": {},
   "source": [
    "<span style=\"font-family: Arial; font-weight:bold;font-size:1.5em;color:#7d5b06;\">2. Within a school district, students were randomly assigned to one of two Math teachers - Mrs. Smith and Mrs. Jones. After the assignment, Mrs. Smith and Mrs. Jones had 30 students each.At the end of the year, each class took the same standardized test. The scores are of students are given below.Test the hypothesis that whether Mrs. Smith and Mrs. Jones are equally effective teachers. Use a 0.05 level of significance.\n",
    "\n",
    "\n",
    "Mrs_Smith = [66,68,71,62,63,63,88,87,89,85,98,91,54,53,69,58,70,86,84,87,87,66,61,60,56,77,75,71,70,59,62,63]\n",
    "\n",
    "Mrs_Jones = [71,80,81,87,64,68,60,72,71,77,39,88,63,55,64,63,71,71,48,63,77,49,67,69,56,44,48,77,63,88,67,67]\n",
    "\n",
    "A. Frame Null and Alternate Hypothesis ( 1 Mark)\n",
    "\n",
    "B. State which test to be performed  (1 Mark)\n",
    "\n",
    "C. Perform the test  (2 Mark)\n",
    "\n",
    "D. Interpret the results  (1 Mark)"
   ]
  },
  {
   "cell_type": "code",
   "execution_count": 99,
   "metadata": {},
   "outputs": [],
   "source": [
    "Mrs_Smith = [66,68,71,62,63,63,88,87,89,85,98,91,54,53,69,58,70,86,84,87,87,66,61,60,56,77,75,71,70,59,62,63]\n",
    "\n",
    "Mrs_Jones = [71,80,81,87,64,68,60,72,71,77,39,88,63,55,64,63,71,71,48,63,77,49,67,69,56,44,48,77,63,88,67,67]"
   ]
  },
  {
   "cell_type": "markdown",
   "metadata": {},
   "source": [
    "### A. Frame Null and Alternate Hypothesis ( 1 Mark)"
   ]
  },
  {
   "cell_type": "raw",
   "metadata": {},
   "source": [
    "Null Hypothesis (H0)     : μ1 =  μ2 no difference in mark means of teacher 1 and 2 (Smith and Jones)\n",
    "Alternate Hypothesis (Ha): μ1 != μ2 Difference in mark means of teacher 1 and 2 (Smith and Jones)"
   ]
  },
  {
   "cell_type": "markdown",
   "metadata": {},
   "source": [
    "### B. State which test to be performed (1 Mark)"
   ]
  },
  {
   "cell_type": "raw",
   "metadata": {},
   "source": [
    "Two Sample t test is used."
   ]
  },
  {
   "cell_type": "markdown",
   "metadata": {},
   "source": [
    "### C. Perform the test (2 Mark)"
   ]
  },
  {
   "cell_type": "code",
   "execution_count": 100,
   "metadata": {},
   "outputs": [],
   "source": [
    "from scipy.stats import ttest_ind"
   ]
  },
  {
   "cell_type": "code",
   "execution_count": 101,
   "metadata": {},
   "outputs": [],
   "source": [
    "# T-test for the means of *two independent* samples of scores.\n",
    "T_stats, P_value = ttest_ind(Mrs_Smith, Mrs_Jones)"
   ]
  },
  {
   "cell_type": "code",
   "execution_count": 102,
   "metadata": {},
   "outputs": [
    {
     "name": "stdout",
     "output_type": "stream",
     "text": [
      "1.7081743311361917 0.09260670088904191\n"
     ]
    }
   ],
   "source": [
    "print(T_stats, P_value)"
   ]
  },
  {
   "cell_type": "markdown",
   "metadata": {},
   "source": [
    "### D. Interpret the results (1 Mark)"
   ]
  },
  {
   "cell_type": "raw",
   "metadata": {},
   "source": [
    "So, P_value(0.092) > 0.05, Fail to reject Null Hypothesis. So, Mrs. Smith and Mrs. Jones are equally effective teachers."
   ]
  },
  {
   "cell_type": "markdown",
   "metadata": {},
   "source": [
    "-----"
   ]
  },
  {
   "cell_type": "markdown",
   "metadata": {},
   "source": [
    "<span style=\"font-family: Arial; font-weight:bold;font-size:1.5em;color:#7d5b06;\">3.Read the dataset(Party.xlsx) and public opinion poll surveyed a simple random sample of 1000 voters. Respondents were classified by gender (male or female) and by voting preference (Republican, Democrat, or Independent).Do the men's voting preferences differ significantly from the women's preferences? Use a 0.05 level of significance.\n",
    "\n",
    "A.Frame Null and Alternate Hypothesis ( 1 Mark)\n",
    "\n",
    "B.State which test to be performed  (1 Mark)\n",
    "\n",
    "C.Perform the test  (2 Mark)\n",
    "\n",
    "D.Interpret the results  (1 Mark)"
   ]
  },
  {
   "cell_type": "code",
   "execution_count": 104,
   "metadata": {},
   "outputs": [],
   "source": [
    "Party_df = pd.read_excel('Party.xlsx')"
   ]
  },
  {
   "cell_type": "code",
   "execution_count": 105,
   "metadata": {},
   "outputs": [
    {
     "name": "stdout",
     "output_type": "stream",
     "text": [
      "<class 'pandas.core.frame.DataFrame'>\n",
      "RangeIndex: 100 entries, 0 to 99\n",
      "Data columns (total 2 columns):\n",
      "Gender    100 non-null object\n",
      "Party     100 non-null object\n",
      "dtypes: object(2)\n",
      "memory usage: 1.6+ KB\n"
     ]
    }
   ],
   "source": [
    "Party_df.info()"
   ]
  },
  {
   "cell_type": "code",
   "execution_count": 106,
   "metadata": {},
   "outputs": [
    {
     "data": {
      "text/html": [
       "<div>\n",
       "<style scoped>\n",
       "    .dataframe tbody tr th:only-of-type {\n",
       "        vertical-align: middle;\n",
       "    }\n",
       "\n",
       "    .dataframe tbody tr th {\n",
       "        vertical-align: top;\n",
       "    }\n",
       "\n",
       "    .dataframe thead th {\n",
       "        text-align: right;\n",
       "    }\n",
       "</style>\n",
       "<table border=\"1\" class=\"dataframe\">\n",
       "  <thead>\n",
       "    <tr style=\"text-align: right;\">\n",
       "      <th></th>\n",
       "      <th>Gender</th>\n",
       "      <th>Party</th>\n",
       "    </tr>\n",
       "  </thead>\n",
       "  <tbody>\n",
       "    <tr>\n",
       "      <th>0</th>\n",
       "      <td>M</td>\n",
       "      <td>Republic</td>\n",
       "    </tr>\n",
       "    <tr>\n",
       "      <th>1</th>\n",
       "      <td>F</td>\n",
       "      <td>Republic</td>\n",
       "    </tr>\n",
       "    <tr>\n",
       "      <th>2</th>\n",
       "      <td>M</td>\n",
       "      <td>Republic</td>\n",
       "    </tr>\n",
       "    <tr>\n",
       "      <th>3</th>\n",
       "      <td>M</td>\n",
       "      <td>Republic</td>\n",
       "    </tr>\n",
       "    <tr>\n",
       "      <th>4</th>\n",
       "      <td>M</td>\n",
       "      <td>Republic</td>\n",
       "    </tr>\n",
       "  </tbody>\n",
       "</table>\n",
       "</div>"
      ],
      "text/plain": [
       "  Gender     Party\n",
       "0      M  Republic\n",
       "1      F  Republic\n",
       "2      M  Republic\n",
       "3      M  Republic\n",
       "4      M  Republic"
      ]
     },
     "execution_count": 106,
     "metadata": {},
     "output_type": "execute_result"
    }
   ],
   "source": [
    "Party_df.head()"
   ]
  },
  {
   "cell_type": "code",
   "execution_count": 129,
   "metadata": {},
   "outputs": [
    {
     "data": {
      "text/html": [
       "<div>\n",
       "<style scoped>\n",
       "    .dataframe tbody tr th:only-of-type {\n",
       "        vertical-align: middle;\n",
       "    }\n",
       "\n",
       "    .dataframe tbody tr th {\n",
       "        vertical-align: top;\n",
       "    }\n",
       "\n",
       "    .dataframe thead th {\n",
       "        text-align: right;\n",
       "    }\n",
       "</style>\n",
       "<table border=\"1\" class=\"dataframe\">\n",
       "  <thead>\n",
       "    <tr style=\"text-align: right;\">\n",
       "      <th>Party</th>\n",
       "      <th>Democratic</th>\n",
       "      <th>Independent</th>\n",
       "      <th>Republic</th>\n",
       "    </tr>\n",
       "    <tr>\n",
       "      <th>Gender</th>\n",
       "      <th></th>\n",
       "      <th></th>\n",
       "      <th></th>\n",
       "    </tr>\n",
       "  </thead>\n",
       "  <tbody>\n",
       "    <tr>\n",
       "      <th>F</th>\n",
       "      <td>24</td>\n",
       "      <td>13</td>\n",
       "      <td>15</td>\n",
       "    </tr>\n",
       "    <tr>\n",
       "      <th>M</th>\n",
       "      <td>15</td>\n",
       "      <td>16</td>\n",
       "      <td>17</td>\n",
       "    </tr>\n",
       "  </tbody>\n",
       "</table>\n",
       "</div>"
      ],
      "text/plain": [
       "Party   Democratic  Independent  Republic\n",
       "Gender                                   \n",
       "F               24           13        15\n",
       "M               15           16        17"
      ]
     },
     "execution_count": 129,
     "metadata": {},
     "output_type": "execute_result"
    }
   ],
   "source": [
    "pd.crosstab(Party_df['Gender'],Party_df['Party'])"
   ]
  },
  {
   "cell_type": "code",
   "execution_count": 121,
   "metadata": {},
   "outputs": [
    {
     "data": {
      "text/plain": [
       "F    52\n",
       "M    48\n",
       "Name: Gender, dtype: int64"
      ]
     },
     "execution_count": 121,
     "metadata": {},
     "output_type": "execute_result"
    }
   ],
   "source": [
    "Party_df['Gender'].value_counts()"
   ]
  },
  {
   "cell_type": "code",
   "execution_count": 135,
   "metadata": {},
   "outputs": [],
   "source": [
    "P_g = Party_df.groupby('Party', axis=0)['Gender'].value_counts()"
   ]
  },
  {
   "cell_type": "code",
   "execution_count": 136,
   "metadata": {},
   "outputs": [
    {
     "data": {
      "text/plain": [
       "Party        Gender\n",
       "Democratic   F         24\n",
       "             M         15\n",
       "Independent  M         16\n",
       "             F         13\n",
       "Republic     M         17\n",
       "             F         15\n",
       "Name: Gender, dtype: int64"
      ]
     },
     "execution_count": 136,
     "metadata": {},
     "output_type": "execute_result"
    }
   ],
   "source": [
    "P_g"
   ]
  },
  {
   "cell_type": "code",
   "execution_count": 148,
   "metadata": {
    "scrolled": true
   },
   "outputs": [],
   "source": [
    "combo = pd.DataFrame({'Republic':[15,17], 'Democratic':[24,15], 'Independent':[13,16]}, index=['F','M'])"
   ]
  },
  {
   "cell_type": "code",
   "execution_count": 149,
   "metadata": {},
   "outputs": [
    {
     "data": {
      "text/html": [
       "<div>\n",
       "<style scoped>\n",
       "    .dataframe tbody tr th:only-of-type {\n",
       "        vertical-align: middle;\n",
       "    }\n",
       "\n",
       "    .dataframe tbody tr th {\n",
       "        vertical-align: top;\n",
       "    }\n",
       "\n",
       "    .dataframe thead th {\n",
       "        text-align: right;\n",
       "    }\n",
       "</style>\n",
       "<table border=\"1\" class=\"dataframe\">\n",
       "  <thead>\n",
       "    <tr style=\"text-align: right;\">\n",
       "      <th></th>\n",
       "      <th>Republic</th>\n",
       "      <th>Democratic</th>\n",
       "      <th>Independent</th>\n",
       "    </tr>\n",
       "  </thead>\n",
       "  <tbody>\n",
       "    <tr>\n",
       "      <th>F</th>\n",
       "      <td>15</td>\n",
       "      <td>24</td>\n",
       "      <td>13</td>\n",
       "    </tr>\n",
       "    <tr>\n",
       "      <th>M</th>\n",
       "      <td>17</td>\n",
       "      <td>15</td>\n",
       "      <td>16</td>\n",
       "    </tr>\n",
       "  </tbody>\n",
       "</table>\n",
       "</div>"
      ],
      "text/plain": [
       "   Republic  Democratic  Independent\n",
       "F        15          24           13\n",
       "M        17          15           16"
      ]
     },
     "execution_count": 149,
     "metadata": {},
     "output_type": "execute_result"
    }
   ],
   "source": [
    "combo"
   ]
  },
  {
   "cell_type": "markdown",
   "metadata": {},
   "source": [
    "### A.Frame Null and Alternate Hypothesis ( 1 Mark)"
   ]
  },
  {
   "cell_type": "raw",
   "metadata": {},
   "source": [
    "Null Hypothesis (H0)      : The men's voting preferences will not differ from the women's preferences\n",
    "Alternate Hypothesis (Ha) : The men's voting preferences differ significantly from the women's preferences"
   ]
  },
  {
   "cell_type": "markdown",
   "metadata": {},
   "source": [
    "### B.State which test to be performed (1 Mark)\n"
   ]
  },
  {
   "cell_type": "raw",
   "metadata": {},
   "source": [
    "Chisquare test is used."
   ]
  },
  {
   "cell_type": "markdown",
   "metadata": {},
   "source": [
    "### C.Perform the test (2 Mark)"
   ]
  },
  {
   "cell_type": "code",
   "execution_count": 150,
   "metadata": {},
   "outputs": [],
   "source": [
    "from scipy.stats import chi2_contingency"
   ]
  },
  {
   "cell_type": "code",
   "execution_count": 157,
   "metadata": {},
   "outputs": [
    {
     "data": {
      "text/plain": [
       "(2.3560375646126634, 0.307888128142274, 2, array([[16.64, 20.28, 15.08],\n",
       "        [15.36, 18.72, 13.92]]))"
      ]
     },
     "execution_count": 157,
     "metadata": {},
     "output_type": "execute_result"
    }
   ],
   "source": [
    "chi2_contingency(combo)"
   ]
  },
  {
   "cell_type": "markdown",
   "metadata": {},
   "source": [
    "### D.Interpret the results (1 Mark)"
   ]
  },
  {
   "cell_type": "raw",
   "metadata": {},
   "source": [
    "So, P-value (0.307) > 0.05 significance level, we fail to reject the null hypothesis.\n",
    "we can say that the men's voting preferences will not differ from the women's preferences."
   ]
  },
  {
   "cell_type": "markdown",
   "metadata": {},
   "source": [
    "-----------"
   ]
  },
  {
   "cell_type": "markdown",
   "metadata": {},
   "source": [
    "<span style=\"font-family: Arial; font-weight:bold;font-size:1.5em;color:#7d5b06;\">4.\tThe following table shows frequency of arrival of patients at a health clinic in a 15-minute interval. What is the probability that more than 6 patients will arrive in next half an hour?\n",
    "\n"
   ]
  },
  {
   "cell_type": "markdown",
   "metadata": {},
   "source": [
    "* Number of Customers:\t0\t1\t2\t3\t4\t5\t6\n",
    "\n",
    "* Observed Frequency:\t1\t4\t5\t6\t4\t3\t2"
   ]
  },
  {
   "cell_type": "code",
   "execution_count": 390,
   "metadata": {},
   "outputs": [],
   "source": [
    "Number_of_Customers = np.array([0 ,1 ,2, 3, 4, 5, 6])\n",
    "Observed_Frequency = np.array([1,4,5,6,4,3,2])\n",
    "interval = 15\n",
    "customers = np.sum(Number_of_Customers * Observed_Frequency)"
   ]
  },
  {
   "cell_type": "code",
   "execution_count": 387,
   "metadata": {},
   "outputs": [],
   "source": [
    "rate15 = customers/intervals\n",
    "rate30 = rate15 * 2"
   ]
  },
  {
   "cell_type": "code",
   "execution_count": 388,
   "metadata": {},
   "outputs": [
    {
     "data": {
      "text/plain": [
       "6.0"
      ]
     },
     "execution_count": 388,
     "metadata": {},
     "output_type": "execute_result"
    }
   ],
   "source": [
    "rate30"
   ]
  },
  {
   "cell_type": "code",
   "execution_count": 389,
   "metadata": {},
   "outputs": [
    {
     "name": "stdout",
     "output_type": "stream",
     "text": [
      "0.5543203586353891\n"
     ]
    }
   ],
   "source": [
    "print(1 - scipy.stats.poisson.cdf(5, rate30))"
   ]
  },
  {
   "cell_type": "markdown",
   "metadata": {},
   "source": [
    "\n",
    "probability of 6 or more customers = 0.554\n"
   ]
  },
  {
   "cell_type": "markdown",
   "metadata": {},
   "source": [
    "-----------"
   ]
  },
  {
   "cell_type": "markdown",
   "metadata": {},
   "source": [
    "#  2 Questions X  10 Marks = 20 Marks\n"
   ]
  },
  {
   "cell_type": "markdown",
   "metadata": {},
   "source": [
    "<span style=\"font-family: Arial; font-weight:bold;font-size:1.5em;color:#7d5b06;\">1.Read the dataset (Churn.xlsx) it consists of all the information regarding telecom industry for any telecom industry Churning rate of customers causes direct impact on the business so by performing the statistical analysis on the data set we need to find out on what facors the churning rate is dependent on. Perform the following tasks on the data :\n",
    "\n",
    "1. List out the numerical and categorical features in the dataset and mention the possible statistical hypothesis test for give features in the dataset(2 marks)\n",
    "\n",
    "\n",
    "2. State the null and alternative hypothesis for any one of the test mention in the question number one(2 marks)\n",
    "\n",
    "3. Now perform any two required statistical test on the data to determine what are the significant features in the data with respect to target variable(95% C.I ) ? (4 Marks)\n",
    "\n",
    "4. Interpret the results ? (2 Marks)"
   ]
  },
  {
   "cell_type": "code",
   "execution_count": 324,
   "metadata": {},
   "outputs": [],
   "source": [
    "Churn_df = pd.read_excel(\"Churn.xlsx\")"
   ]
  },
  {
   "cell_type": "code",
   "execution_count": 326,
   "metadata": {},
   "outputs": [
    {
     "name": "stdout",
     "output_type": "stream",
     "text": [
      "<class 'pandas.core.frame.DataFrame'>\n",
      "RangeIndex: 7043 entries, 0 to 7042\n",
      "Data columns (total 15 columns):\n",
      "customerID          7043 non-null object\n",
      "gender              7043 non-null object\n",
      "SeniorCitizen       7043 non-null int64\n",
      "Partner             7043 non-null object\n",
      "Dependents          7043 non-null object\n",
      "tenure              7043 non-null int64\n",
      "PhoneService        7043 non-null object\n",
      "OnlineBackup        7043 non-null object\n",
      "TechSupport         7043 non-null object\n",
      "StreamingTV         7043 non-null object\n",
      "Contract            7043 non-null object\n",
      "PaperlessBilling    7043 non-null object\n",
      "PaymentMethod       7043 non-null object\n",
      "MonthlyCharges      7043 non-null float64\n",
      "Churn               7043 non-null object\n",
      "dtypes: float64(1), int64(2), object(12)\n",
      "memory usage: 825.4+ KB\n"
     ]
    }
   ],
   "source": [
    "Churn_df.info()"
   ]
  },
  {
   "cell_type": "code",
   "execution_count": 327,
   "metadata": {},
   "outputs": [],
   "source": [
    "categorical = Churn_df.select_dtypes('object').columns"
   ]
  },
  {
   "cell_type": "code",
   "execution_count": 328,
   "metadata": {},
   "outputs": [],
   "source": [
    "numerical = Churn_df.select_dtypes(exclude='object').columns"
   ]
  },
  {
   "cell_type": "markdown",
   "metadata": {},
   "source": [
    "## 1. List out the numerical and categorical features in the dataset and mention the possible statistical hypothesis test for give features in the dataset(2 marks)"
   ]
  },
  {
   "cell_type": "code",
   "execution_count": 329,
   "metadata": {},
   "outputs": [
    {
     "data": {
      "text/plain": [
       "Index(['customerID', 'gender', 'Partner', 'Dependents', 'PhoneService',\n",
       "       'OnlineBackup', 'TechSupport', 'StreamingTV', 'Contract',\n",
       "       'PaperlessBilling', 'PaymentMethod', 'Churn'],\n",
       "      dtype='object')"
      ]
     },
     "execution_count": 329,
     "metadata": {},
     "output_type": "execute_result"
    }
   ],
   "source": [
    "categorical"
   ]
  },
  {
   "cell_type": "code",
   "execution_count": 330,
   "metadata": {},
   "outputs": [
    {
     "data": {
      "text/plain": [
       "Index(['SeniorCitizen', 'tenure', 'MonthlyCharges'], dtype='object')"
      ]
     },
     "execution_count": 330,
     "metadata": {},
     "output_type": "execute_result"
    }
   ],
   "source": [
    "numerical"
   ]
  },
  {
   "cell_type": "raw",
   "metadata": {},
   "source": [
    "Let, Our target variable is Churn which is Categorical\n",
    "\n",
    "For Categorical\n",
    "    So, Chi-Square test is the possible statistical hypothesis test with Churn vs Categorical variables to check significany between them.\n",
    "    \n",
    "For Numerical\n",
    "    So, Two sample T test is the possible statistical hypothesis test with Churn vs Numerical variables to check significany between them."
   ]
  },
  {
   "cell_type": "markdown",
   "metadata": {},
   "source": [
    "## 2. State the null and alternative hypothesis for any one of the test mention in the question number one(2 marks)"
   ]
  },
  {
   "cell_type": "markdown",
   "metadata": {},
   "source": [
    "#### 2 sample t-test"
   ]
  },
  {
   "cell_type": "raw",
   "metadata": {},
   "source": [
    "Null Hypothesis H0 : There is no significant differnece between the means of variables.\n",
    "Alternate Hypothesis H1 : There is a significant differnece between the means of variables."
   ]
  },
  {
   "cell_type": "markdown",
   "metadata": {},
   "source": [
    "##### Chi-Square test :"
   ]
  },
  {
   "cell_type": "raw",
   "metadata": {},
   "source": [
    "Null Hypothesis H0 : There is no dependancy between the variables.\n",
    "Alternate Hypothesis H1 :There is a dependancy between the variables."
   ]
  },
  {
   "cell_type": "markdown",
   "metadata": {},
   "source": [
    "## 3. Now perform required statistical tests on the data to determine what are the significant features in the data with respect to  target variable(95%  C.I ).    "
   ]
  },
  {
   "cell_type": "markdown",
   "metadata": {},
   "source": [
    "### 2 sample t-test"
   ]
  },
  {
   "cell_type": "code",
   "execution_count": 332,
   "metadata": {},
   "outputs": [],
   "source": [
    "df_no = Churn_df[Churn_df[\"Churn\"]=='No']\n",
    "df_yes = Churn_df[Churn_df[\"Churn\"]=='Yes']"
   ]
  },
  {
   "cell_type": "code",
   "execution_count": 333,
   "metadata": {},
   "outputs": [
    {
     "name": "stdout",
     "output_type": "stream",
     "text": [
      "T_stats and Pvalue for 'T test on MonthlyCharges and chrun' \n",
      "\n",
      "The calculated T-observed value is :-  16.53673801593631\n",
      "The calculated p-value is :-           2.706645606888261e-60\n"
     ]
    }
   ],
   "source": [
    "# T test for MonthlyCharges\n",
    "t_stat1,pval1 = ttest_ind(df_yes[\"MonthlyCharges\"],df_no[\"MonthlyCharges\"])\n",
    "print(\"T_stats and Pvalue for 'T test on MonthlyCharges and chrun' \\n\")\n",
    "print(\"The calculated T-observed value is :- \"  ,t_stat1)\n",
    "print(\"The calculated p-value is :-          \",pval1)"
   ]
  },
  {
   "cell_type": "code",
   "execution_count": 334,
   "metadata": {},
   "outputs": [
    {
     "name": "stdout",
     "output_type": "stream",
     "text": [
      "T_stats and Pvalue for 'T test on Tenure and chrun' \n",
      "\n",
      "The calculated T-observed value is :-  -31.57955051135377\n",
      "The calculated p-value is :-           7.99905796059022e-205\n"
     ]
    }
   ],
   "source": [
    "# T test on Tenure and chrun.\n",
    "t_stat2,pval2 = ttest_ind(df_yes[\"tenure\"],df_no[\"tenure\"])\n",
    "print(\"T_stats and Pvalue for 'T test on Tenure and chrun' \\n\")\n",
    "print(\"The calculated T-observed value is :- \",t_stat2)\n",
    "print(\"The calculated p-value is :-          \",pval2)"
   ]
  },
  {
   "cell_type": "code",
   "execution_count": null,
   "metadata": {},
   "outputs": [],
   "source": []
  },
  {
   "cell_type": "markdown",
   "metadata": {},
   "source": [
    "### Chisquare test"
   ]
  },
  {
   "cell_type": "code",
   "execution_count": 335,
   "metadata": {},
   "outputs": [],
   "source": [
    "from scipy.stats import chi2_contingency"
   ]
  },
  {
   "cell_type": "code",
   "execution_count": 354,
   "metadata": {},
   "outputs": [],
   "source": [
    "# P_values of tests"
   ]
  },
  {
   "cell_type": "code",
   "execution_count": 340,
   "metadata": {},
   "outputs": [
    {
     "data": {
      "text/html": [
       "<div>\n",
       "<style scoped>\n",
       "    .dataframe tbody tr th:only-of-type {\n",
       "        vertical-align: middle;\n",
       "    }\n",
       "\n",
       "    .dataframe tbody tr th {\n",
       "        vertical-align: top;\n",
       "    }\n",
       "\n",
       "    .dataframe thead th {\n",
       "        text-align: right;\n",
       "    }\n",
       "</style>\n",
       "<table border=\"1\" class=\"dataframe\">\n",
       "  <thead>\n",
       "    <tr style=\"text-align: right;\">\n",
       "      <th>gender</th>\n",
       "      <th>Female</th>\n",
       "      <th>Male</th>\n",
       "    </tr>\n",
       "    <tr>\n",
       "      <th>Churn</th>\n",
       "      <th></th>\n",
       "      <th></th>\n",
       "    </tr>\n",
       "  </thead>\n",
       "  <tbody>\n",
       "    <tr>\n",
       "      <th>No</th>\n",
       "      <td>2549</td>\n",
       "      <td>2625</td>\n",
       "    </tr>\n",
       "    <tr>\n",
       "      <th>Yes</th>\n",
       "      <td>939</td>\n",
       "      <td>930</td>\n",
       "    </tr>\n",
       "  </tbody>\n",
       "</table>\n",
       "</div>"
      ],
      "text/plain": [
       "gender  Female  Male\n",
       "Churn               \n",
       "No        2549  2625\n",
       "Yes        939   930"
      ]
     },
     "execution_count": 340,
     "metadata": {},
     "output_type": "execute_result"
    }
   ],
   "source": [
    "gender = pd.crosstab(Churn_df[\"Churn\"],Churn_df[\"gender\"])\n",
    "gender"
   ]
  },
  {
   "cell_type": "code",
   "execution_count": 345,
   "metadata": {},
   "outputs": [
    {
     "data": {
      "text/plain": [
       "0.48657873605618596"
      ]
     },
     "execution_count": 345,
     "metadata": {},
     "output_type": "execute_result"
    }
   ],
   "source": [
    "chi2_contingency(gender)[1]\n"
   ]
  },
  {
   "cell_type": "code",
   "execution_count": 347,
   "metadata": {},
   "outputs": [
    {
     "data": {
      "text/html": [
       "<div>\n",
       "<style scoped>\n",
       "    .dataframe tbody tr th:only-of-type {\n",
       "        vertical-align: middle;\n",
       "    }\n",
       "\n",
       "    .dataframe tbody tr th {\n",
       "        vertical-align: top;\n",
       "    }\n",
       "\n",
       "    .dataframe thead th {\n",
       "        text-align: right;\n",
       "    }\n",
       "</style>\n",
       "<table border=\"1\" class=\"dataframe\">\n",
       "  <thead>\n",
       "    <tr style=\"text-align: right;\">\n",
       "      <th>SeniorCitizen</th>\n",
       "      <th>0</th>\n",
       "      <th>1</th>\n",
       "    </tr>\n",
       "    <tr>\n",
       "      <th>Churn</th>\n",
       "      <th></th>\n",
       "      <th></th>\n",
       "    </tr>\n",
       "  </thead>\n",
       "  <tbody>\n",
       "    <tr>\n",
       "      <th>No</th>\n",
       "      <td>4508</td>\n",
       "      <td>666</td>\n",
       "    </tr>\n",
       "    <tr>\n",
       "      <th>Yes</th>\n",
       "      <td>1393</td>\n",
       "      <td>476</td>\n",
       "    </tr>\n",
       "  </tbody>\n",
       "</table>\n",
       "</div>"
      ],
      "text/plain": [
       "SeniorCitizen     0    1\n",
       "Churn                   \n",
       "No             4508  666\n",
       "Yes            1393  476"
      ]
     },
     "execution_count": 347,
     "metadata": {},
     "output_type": "execute_result"
    }
   ],
   "source": [
    "SeniorCitizen = pd.crosstab(Churn_df[\"Churn\"],Churn_df[\"SeniorCitizen\"])\n",
    "SeniorCitizen"
   ]
  },
  {
   "cell_type": "code",
   "execution_count": 348,
   "metadata": {},
   "outputs": [
    {
     "data": {
      "text/plain": [
       "1.510066805092378e-36"
      ]
     },
     "execution_count": 348,
     "metadata": {},
     "output_type": "execute_result"
    }
   ],
   "source": [
    "chi2_contingency(SeniorCitizen)[1]"
   ]
  },
  {
   "cell_type": "code",
   "execution_count": 351,
   "metadata": {},
   "outputs": [
    {
     "data": {
      "text/html": [
       "<div>\n",
       "<style scoped>\n",
       "    .dataframe tbody tr th:only-of-type {\n",
       "        vertical-align: middle;\n",
       "    }\n",
       "\n",
       "    .dataframe tbody tr th {\n",
       "        vertical-align: top;\n",
       "    }\n",
       "\n",
       "    .dataframe thead th {\n",
       "        text-align: right;\n",
       "    }\n",
       "</style>\n",
       "<table border=\"1\" class=\"dataframe\">\n",
       "  <thead>\n",
       "    <tr style=\"text-align: right;\">\n",
       "      <th>Partner</th>\n",
       "      <th>No</th>\n",
       "      <th>Yes</th>\n",
       "    </tr>\n",
       "    <tr>\n",
       "      <th>Churn</th>\n",
       "      <th></th>\n",
       "      <th></th>\n",
       "    </tr>\n",
       "  </thead>\n",
       "  <tbody>\n",
       "    <tr>\n",
       "      <th>No</th>\n",
       "      <td>2441</td>\n",
       "      <td>2733</td>\n",
       "    </tr>\n",
       "    <tr>\n",
       "      <th>Yes</th>\n",
       "      <td>1200</td>\n",
       "      <td>669</td>\n",
       "    </tr>\n",
       "  </tbody>\n",
       "</table>\n",
       "</div>"
      ],
      "text/plain": [
       "Partner    No   Yes\n",
       "Churn              \n",
       "No       2441  2733\n",
       "Yes      1200   669"
      ]
     },
     "execution_count": 351,
     "metadata": {},
     "output_type": "execute_result"
    }
   ],
   "source": [
    "Partner = pd.crosstab(Churn_df[\"Churn\"],Churn_df[\"Partner\"])\n",
    "Partner"
   ]
  },
  {
   "cell_type": "code",
   "execution_count": 352,
   "metadata": {},
   "outputs": [
    {
     "data": {
      "text/plain": [
       "2.1399113440759935e-36"
      ]
     },
     "execution_count": 352,
     "metadata": {},
     "output_type": "execute_result"
    }
   ],
   "source": [
    "chi2_contingency(Partner)[1]"
   ]
  },
  {
   "cell_type": "markdown",
   "metadata": {},
   "source": [
    "## 4.Interpret the results ? (2 Marks)"
   ]
  },
  {
   "cell_type": "raw",
   "metadata": {},
   "source": [
    "Here we are cosidering 95% confidence interval hence for the features which are having p_values greater than 0.05 we reject the null hypothesis and for the features which have their p_values less than 0.05 we fail to reject null hypothesis\n",
    "\n",
    "We did two test for \"T test on MonthlyCharges and chrun\" and \"T test on Tenure and chrun\" and the pvalue is less the significance ( 0.05) hence fail to reject null hypothesis. "
   ]
  },
  {
   "cell_type": "markdown",
   "metadata": {},
   "source": [
    "-----------"
   ]
  },
  {
   "cell_type": "markdown",
   "metadata": {},
   "source": [
    "<span style=\"font-family: Arial; font-weight:bold;font-size:1.5em;color:#7d5b06;\">2A). A principal at a school claims that the students in his school are above average intelligent. A random sample of 45 students scores have been taken and observed \"mean\" score of 68. Is there sufficient evidence to support the principal claim as a significance level of 0.025? The mean population score is 59 with a standard deviation of 9. Scores are normally distributed\n",
    "\n",
    "A.Frame Null and Alternate Hypothesis ( 1 Mark)\n",
    "\n",
    "B.State which tail test to be performed  (1 Mark)\n",
    "\n",
    "C.Find the test statistic  (2 Mark)\n",
    "\n",
    "D.Interpret the results  (1 Mark)"
   ]
  },
  {
   "cell_type": "markdown",
   "metadata": {},
   "source": [
    "## A.Frame Null and Alternate Hypothesis ( 1 Mark)"
   ]
  },
  {
   "cell_type": "raw",
   "metadata": {},
   "source": [
    "Null Hypothesis :(H0) : u < 59      (The scores of students in the school are not above average.)\n",
    "Alternate Hypothesis :(Ha):u >= 59  (The scores of students in the school are above average.)"
   ]
  },
  {
   "cell_type": "markdown",
   "metadata": {},
   "source": [
    "## B.State which tail test to be performed (1 Mark)"
   ]
  },
  {
   "cell_type": "raw",
   "metadata": {},
   "source": [
    "Here the principle claims that students scores are above average which is (>=59) so that means we can reject the null   only in one direction so will performed One tail z test to be performed."
   ]
  },
  {
   "cell_type": "code",
   "execution_count": 360,
   "metadata": {},
   "outputs": [
    {
     "name": "stdout",
     "output_type": "stream",
     "text": [
      "Z_observed is 6.708203932499369\n",
      "The Z_critical value for significance level 0.025 is  1.96\n"
     ]
    }
   ],
   "source": [
    "from scipy import stats\n",
    "mu = 59         \n",
    "xbar = 68       \n",
    "sd = 9          \n",
    "n = 45\n",
    "alpha = 0.025   \n",
    "\n",
    "# Find the Z Test Statistic\n",
    "ztest = (xbar-mu)/(sd/np.sqrt(n))\n",
    "print(\"Z_observed is\",ztest)      \n",
    "print(\"The Z_critical value for significance level 0.025 is \",round(stats.norm.isf(0.025),2))"
   ]
  },
  {
   "cell_type": "markdown",
   "metadata": {},
   "source": [
    "## D.Interpret the results (1 Mark)"
   ]
  },
  {
   "cell_type": "raw",
   "metadata": {},
   "source": [
    "Since the test statistic is greater than the critical value we can reject the null hypothesis.It is statically proven that principle clain established."
   ]
  },
  {
   "cell_type": "markdown",
   "metadata": {},
   "source": [
    "--------"
   ]
  },
  {
   "cell_type": "markdown",
   "metadata": {},
   "source": [
    "<span style=\"font-family: Arial; font-weight:bold;font-size:1.5em;color:#7d5b06;\">2B). Determine the confidence interval of 95% for a random sample of size 400 with mean 196 and standard deviation 16 ?"
   ]
  },
  {
   "cell_type": "code",
   "execution_count": 366,
   "metadata": {},
   "outputs": [
    {
     "name": "stdout",
     "output_type": "stream",
     "text": [
      "Z_critical 1.6448536269514729\n",
      "For 95 % confidence interval for population is 164.641 to 227.359\n"
     ]
    }
   ],
   "source": [
    "from scipy import stats\n",
    "\n",
    "\n",
    "conf_int=0.95\n",
    "s = 16\n",
    "xbar = 196\n",
    "n=400\n",
    "z_c = stats.norm.isf(0.05)\n",
    "LCI,UCI = stats.norm.interval(conf_int,loc = xbar, scale= s )\n",
    "print('Z_critical', z_c)\n",
    "print('For 95 %s confidence interval for population is %1.3f to %1.3f' %('%',LCI,UCI))"
   ]
  },
  {
   "cell_type": "markdown",
   "metadata": {},
   "source": [
    "---------"
   ]
  },
  {
   "cell_type": "markdown",
   "metadata": {},
   "source": [
    "# 2 Questions X  15 Marks = 30 Marks"
   ]
  },
  {
   "cell_type": "markdown",
   "metadata": {},
   "source": [
    "<span style=\"font-family: Arial; font-weight:bold;font-size:1.5em;color:#7d5b06;\">1A). A farmer cultivates carrots in 2 different fields he wants know weather the size of carrots of field_1 differs from field_2 or not, sample sizes of carrots from both the fields are given below.Construct the hypothesis and perform necessary statistical test.\n",
    "\n",
    "field_1 = [10,9,8,10,11,8,9,11,8,9,14,6,7,8,9,8,7,10]\n",
    "\n",
    "field_2 = [6,5,7,5,6,11,8,6,5,4,5,6,7,6,7,8,5,7,8,7,10]"
   ]
  },
  {
   "cell_type": "raw",
   "metadata": {},
   "source": [
    "Null Hypothesis (H0): no difference between means of the size of carrots of field_1 differs from field_2 .\n",
    "Alternate Hypothesis(Ha): There is a significance difference between means of the size of carrots of field_1 differs from field_2."
   ]
  },
  {
   "cell_type": "code",
   "execution_count": 370,
   "metadata": {},
   "outputs": [
    {
     "name": "stdout",
     "output_type": "stream",
     "text": [
      "T-observed value is :-   4.169275888956743\n",
      "p-value is :-            0.0001766210749300592\n"
     ]
    }
   ],
   "source": [
    "field_1 = [10,9,8,10,11,8,9,11,8,9,14,6,7,8,9,8,7,10]\n",
    "field_2 = [6,5,7,5,6,11,8,6,5,4,5,6,7,6,7,8,5,7,8,7,10]\n",
    "\n",
    "\n",
    "T_stats, p_val = ttest_ind(field_1,field_2)\n",
    "print(\"T-observed value is :-  \",T_stats)\n",
    "print(\"p-value is :-           \",p_val)"
   ]
  },
  {
   "cell_type": "raw",
   "metadata": {},
   "source": [
    "From above test the pvalue(0.000176) of is less then 0.05, hence we reject the null hypothesis. \n",
    "So, There is a significance difference between means of the size of carrots of field_1 differs from field_2."
   ]
  },
  {
   "cell_type": "markdown",
   "metadata": {},
   "source": [
    "---------"
   ]
  },
  {
   "cell_type": "markdown",
   "metadata": {},
   "source": [
    "<span style=\"font-family: Arial; font-weight:bold;font-size:1.5em;color:#7d5b06;\">1B) .\tIt is very important to fill vehicle tyres with right pressure. Too much or too less pressure will result in lower performance or shorter life. The right amount of pressure is set at 16 psi. A random check of 8 tyres at a service station has resulted in following values. Do we have evidence to believe the that the observed tyre pressure is significantly different from 16?\n",
    "\n",
    "Observed Tyre Pressure (psi):\t16.02\t16.22\t15.82\t15.92\t16.22\t16.32\t16.12\t15.92\n",
    " \n"
   ]
  },
  {
   "cell_type": "code",
   "execution_count": 373,
   "metadata": {},
   "outputs": [
    {
     "name": "stdout",
     "output_type": "stream",
     "text": [
      "The sample mean value for given tube data :  16.07\n",
      "The calculated t_observed value is :         1.1168136493044578\n",
      "The calculated t_critical value is :         2.3646242510102993\n",
      "The calculated p-Value:                      0.1504680383852428\n"
     ]
    }
   ],
   "source": [
    "tube = ([16.02,16.22,15.82,15.92,16.22,16.32,16.12,15.92])\n",
    "n = len(tube)\n",
    "\n",
    "df = n - 1\n",
    "mu = 16  \n",
    "\n",
    "\n",
    "xbar = np.mean(tube)\n",
    "sigma = np.std(tube, ddof=1)            \n",
    "se = sigma / np.sqrt(n)\n",
    "cl = 0.95; alby2 = (1 - cl) / 2;\n",
    "t = (xbar - mu) / se\n",
    "\n",
    "# perform two tail test\n",
    "tcrit = stats.t.isf(alby2, df=df)\n",
    "\n",
    "# P_value\n",
    "pval = 1 - stats.t.cdf(t, df=df)\n",
    "print('The sample mean value for given tube data : ', xbar)\n",
    "print('The calculated t_observed value is :        ', t)\n",
    "print('The calculated t_critical value is :        ', tcrit)\n",
    "print('The calculated p-Value:                     ', pval)\n"
   ]
  },
  {
   "cell_type": "raw",
   "metadata": {},
   "source": [
    "Since p-Value > 0.05, we are unable to reject H0. So, we conclude that there is not enough statistical evidence that the mean tyre pressure is significantly different from 16 psi."
   ]
  },
  {
   "cell_type": "markdown",
   "metadata": {},
   "source": [
    "---------"
   ]
  },
  {
   "cell_type": "markdown",
   "metadata": {},
   "source": [
    "<span style=\"font-family: Arial; font-weight:bold;font-size:1.5em;color:#7d5b06;\">1C). The mayor of a large city claims that the average net worth of families living in this city is at least 300,000. A random sample of 25 families selected from this city produced a mean net worth of 288,000.Assume that the net worth of all families in this city have a normal distribution with the population standard deviation of 80,000. Using the 2.5% significance level, can you conclude that the mayor’s claim is false?\n",
    "\n",
    "A.Frame Null and Alternate Hypothesis ( 1 Mark)\n",
    "\n",
    "B.State which tail test to be performed  (1 Mark)\n",
    "\n",
    "C.Find the test statistic  (2 Mark)\n",
    "\n",
    "D.Interpret the results  (1 Mark)"
   ]
  },
  {
   "cell_type": "markdown",
   "metadata": {},
   "source": [
    "### A.Frame Null and Alternate Hypothesis  ( 1 Mark)"
   ]
  },
  {
   "cell_type": "raw",
   "metadata": {},
   "source": [
    "Null_Hypothesis      H0 : μ >= 300000  \n",
    "Alternate Hypothesis Ha : μ < 300000 "
   ]
  },
  {
   "cell_type": "markdown",
   "metadata": {},
   "source": [
    "### B.State which tail test to be performed  ( 1 Mark)"
   ]
  },
  {
   "cell_type": "raw",
   "metadata": {},
   "source": [
    "Left tail z test to be performed"
   ]
  },
  {
   "cell_type": "markdown",
   "metadata": {},
   "source": [
    "### C.Find the test statistic & Critical value ( 2 Mark)"
   ]
  },
  {
   "cell_type": "code",
   "execution_count": 374,
   "metadata": {},
   "outputs": [],
   "source": [
    "mu = 300000 \n",
    "xbar = 288000\n",
    "sd = 80000\n",
    "n = 25\n",
    "alpha = 0.025"
   ]
  },
  {
   "cell_type": "code",
   "execution_count": 377,
   "metadata": {},
   "outputs": [
    {
     "name": "stdout",
     "output_type": "stream",
     "text": [
      "Z observed -0.75\n"
     ]
    }
   ],
   "source": [
    "# Find the Z Test Statistic\n",
    "ztest = (xbar-mu)/(sd/np.sqrt(n))\n",
    "print('Z observed',ztest)"
   ]
  },
  {
   "cell_type": "code",
   "execution_count": 380,
   "metadata": {},
   "outputs": [
    {
     "name": "stdout",
     "output_type": "stream",
     "text": [
      "Z critical -1.96\n"
     ]
    }
   ],
   "source": [
    "# Finding the left Critical value\n",
    "print('Z critical',-round(stats.norm.isf(0.025),2))"
   ]
  },
  {
   "cell_type": "markdown",
   "metadata": {},
   "source": [
    "### D.Interpret the results  ( 1 Mark)"
   ]
  },
  {
   "cell_type": "raw",
   "metadata": {},
   "source": [
    "Since the Z observed test statistic is less than the critical value. so, we fail to reject the null hypothesis"
   ]
  },
  {
   "cell_type": "markdown",
   "metadata": {},
   "source": [
    "-------------"
   ]
  },
  {
   "cell_type": "markdown",
   "metadata": {},
   "source": [
    "<span style=\"font-family: Arial; font-weight:bold;font-size:1.5em;color:#7d5b06;\">2).Read he data set(Admission.xlsx) consists of complete educational details of students right from their schooling to MBA and previous work experience. Salary is the target variable in the data.Perform the following tasks on the data :\n",
    "\n",
    "\n",
    "1. List out the numerical and categorical features in the dataset and mention the possible statistical hypothesis test for give features in the dataset(2 marks)\n",
    "\n",
    "\n",
    "2. State the null and alternative hypothesis for any one of the test mention in the question number one(2 marks)\n",
    "\n",
    "3. Now perform required statistical tests on the data to determine what are the significant features in the data with respect \n",
    "to  target variable(95%  C.I ).      (5 Marks)\n",
    "\n",
    "4. Interpret the results  (2 Marks)\n",
    "\n",
    "5. Build a model and find the coefficient and intercept value ? (4 Marks)"
   ]
  },
  {
   "cell_type": "code",
   "execution_count": 266,
   "metadata": {},
   "outputs": [],
   "source": [
    "admission_df = pd.read_excel('Admission.xlsx')"
   ]
  },
  {
   "cell_type": "code",
   "execution_count": 267,
   "metadata": {},
   "outputs": [
    {
     "name": "stdout",
     "output_type": "stream",
     "text": [
      "<class 'pandas.core.frame.DataFrame'>\n",
      "RangeIndex: 391 entries, 0 to 390\n",
      "Data columns (total 19 columns):\n",
      "SlNo                   391 non-null int64\n",
      "Gender                 391 non-null object\n",
      "Percent_SSC            391 non-null float64\n",
      "Board_SSC              391 non-null object\n",
      "Percent_HSC            391 non-null float64\n",
      "Board_HSC              391 non-null object\n",
      "Stream_HSC             391 non-null object\n",
      "Percent_Degree         391 non-null float64\n",
      "Course_Degree          391 non-null object\n",
      "Experience_Yrs         391 non-null int64\n",
      "Entrance_Test          324 non-null object\n",
      "Percentile_ET          391 non-null float64\n",
      "Percent_MBA            391 non-null float64\n",
      "Specialization_MBA     391 non-null object\n",
      "Marks_Communication    391 non-null int64\n",
      "Marks_Projectwork      391 non-null int64\n",
      "Marks_BOCA             391 non-null int64\n",
      "Placement              391 non-null object\n",
      "Salary                 391 non-null int64\n",
      "dtypes: float64(5), int64(6), object(8)\n",
      "memory usage: 58.1+ KB\n"
     ]
    }
   ],
   "source": [
    "admission_df.info()"
   ]
  },
  {
   "cell_type": "code",
   "execution_count": 268,
   "metadata": {},
   "outputs": [
    {
     "data": {
      "text/html": [
       "<div>\n",
       "<style scoped>\n",
       "    .dataframe tbody tr th:only-of-type {\n",
       "        vertical-align: middle;\n",
       "    }\n",
       "\n",
       "    .dataframe tbody tr th {\n",
       "        vertical-align: top;\n",
       "    }\n",
       "\n",
       "    .dataframe thead th {\n",
       "        text-align: right;\n",
       "    }\n",
       "</style>\n",
       "<table border=\"1\" class=\"dataframe\">\n",
       "  <thead>\n",
       "    <tr style=\"text-align: right;\">\n",
       "      <th></th>\n",
       "      <th>SlNo</th>\n",
       "      <th>Gender</th>\n",
       "      <th>Percent_SSC</th>\n",
       "      <th>Board_SSC</th>\n",
       "      <th>Percent_HSC</th>\n",
       "      <th>Board_HSC</th>\n",
       "      <th>Stream_HSC</th>\n",
       "      <th>Percent_Degree</th>\n",
       "      <th>Course_Degree</th>\n",
       "      <th>Experience_Yrs</th>\n",
       "      <th>Entrance_Test</th>\n",
       "      <th>Percentile_ET</th>\n",
       "      <th>Percent_MBA</th>\n",
       "      <th>Specialization_MBA</th>\n",
       "      <th>Marks_Communication</th>\n",
       "      <th>Marks_Projectwork</th>\n",
       "      <th>Marks_BOCA</th>\n",
       "      <th>Placement</th>\n",
       "      <th>Salary</th>\n",
       "    </tr>\n",
       "  </thead>\n",
       "  <tbody>\n",
       "    <tr>\n",
       "      <th>0</th>\n",
       "      <td>1</td>\n",
       "      <td>M</td>\n",
       "      <td>62.00</td>\n",
       "      <td>Others</td>\n",
       "      <td>88.00</td>\n",
       "      <td>Others</td>\n",
       "      <td>Commerce</td>\n",
       "      <td>52.00</td>\n",
       "      <td>Science</td>\n",
       "      <td>0</td>\n",
       "      <td>MAT</td>\n",
       "      <td>55.0</td>\n",
       "      <td>58.80</td>\n",
       "      <td>Marketing &amp; HR</td>\n",
       "      <td>50</td>\n",
       "      <td>65</td>\n",
       "      <td>74</td>\n",
       "      <td>Placed</td>\n",
       "      <td>270000</td>\n",
       "    </tr>\n",
       "    <tr>\n",
       "      <th>1</th>\n",
       "      <td>2</td>\n",
       "      <td>M</td>\n",
       "      <td>76.33</td>\n",
       "      <td>ICSE</td>\n",
       "      <td>75.33</td>\n",
       "      <td>Others</td>\n",
       "      <td>Science</td>\n",
       "      <td>75.48</td>\n",
       "      <td>Computer Applications</td>\n",
       "      <td>1</td>\n",
       "      <td>MAT</td>\n",
       "      <td>86.5</td>\n",
       "      <td>66.28</td>\n",
       "      <td>Marketing &amp; Finance</td>\n",
       "      <td>69</td>\n",
       "      <td>70</td>\n",
       "      <td>75</td>\n",
       "      <td>Placed</td>\n",
       "      <td>200000</td>\n",
       "    </tr>\n",
       "    <tr>\n",
       "      <th>2</th>\n",
       "      <td>3</td>\n",
       "      <td>M</td>\n",
       "      <td>72.00</td>\n",
       "      <td>Others</td>\n",
       "      <td>78.00</td>\n",
       "      <td>Others</td>\n",
       "      <td>Commerce</td>\n",
       "      <td>66.63</td>\n",
       "      <td>Engineering</td>\n",
       "      <td>0</td>\n",
       "      <td>NaN</td>\n",
       "      <td>0.0</td>\n",
       "      <td>52.91</td>\n",
       "      <td>Marketing &amp; Finance</td>\n",
       "      <td>50</td>\n",
       "      <td>61</td>\n",
       "      <td>59</td>\n",
       "      <td>Placed</td>\n",
       "      <td>240000</td>\n",
       "    </tr>\n",
       "    <tr>\n",
       "      <th>3</th>\n",
       "      <td>4</td>\n",
       "      <td>M</td>\n",
       "      <td>60.00</td>\n",
       "      <td>CBSE</td>\n",
       "      <td>63.00</td>\n",
       "      <td>CBSE</td>\n",
       "      <td>Arts</td>\n",
       "      <td>58.00</td>\n",
       "      <td>Management</td>\n",
       "      <td>0</td>\n",
       "      <td>MAT</td>\n",
       "      <td>75.0</td>\n",
       "      <td>57.80</td>\n",
       "      <td>Marketing &amp; Finance</td>\n",
       "      <td>54</td>\n",
       "      <td>66</td>\n",
       "      <td>62</td>\n",
       "      <td>Placed</td>\n",
       "      <td>250000</td>\n",
       "    </tr>\n",
       "    <tr>\n",
       "      <th>4</th>\n",
       "      <td>5</td>\n",
       "      <td>M</td>\n",
       "      <td>61.00</td>\n",
       "      <td>CBSE</td>\n",
       "      <td>55.00</td>\n",
       "      <td>ISC</td>\n",
       "      <td>Science</td>\n",
       "      <td>54.00</td>\n",
       "      <td>Engineering</td>\n",
       "      <td>1</td>\n",
       "      <td>MAT</td>\n",
       "      <td>66.0</td>\n",
       "      <td>59.43</td>\n",
       "      <td>Marketing &amp; HR</td>\n",
       "      <td>52</td>\n",
       "      <td>65</td>\n",
       "      <td>67</td>\n",
       "      <td>Placed</td>\n",
       "      <td>180000</td>\n",
       "    </tr>\n",
       "  </tbody>\n",
       "</table>\n",
       "</div>"
      ],
      "text/plain": [
       "   SlNo Gender  Percent_SSC Board_SSC  Percent_HSC Board_HSC Stream_HSC  \\\n",
       "0     1      M        62.00    Others        88.00    Others   Commerce   \n",
       "1     2      M        76.33      ICSE        75.33    Others    Science   \n",
       "2     3      M        72.00    Others        78.00    Others   Commerce   \n",
       "3     4      M        60.00      CBSE        63.00      CBSE       Arts   \n",
       "4     5      M        61.00      CBSE        55.00       ISC    Science   \n",
       "\n",
       "   Percent_Degree          Course_Degree  Experience_Yrs Entrance_Test  \\\n",
       "0           52.00                Science               0           MAT   \n",
       "1           75.48  Computer Applications               1           MAT   \n",
       "2           66.63            Engineering               0           NaN   \n",
       "3           58.00             Management               0           MAT   \n",
       "4           54.00            Engineering               1           MAT   \n",
       "\n",
       "   Percentile_ET  Percent_MBA   Specialization_MBA  Marks_Communication  \\\n",
       "0           55.0        58.80       Marketing & HR                   50   \n",
       "1           86.5        66.28  Marketing & Finance                   69   \n",
       "2            0.0        52.91  Marketing & Finance                   50   \n",
       "3           75.0        57.80  Marketing & Finance                   54   \n",
       "4           66.0        59.43       Marketing & HR                   52   \n",
       "\n",
       "   Marks_Projectwork  Marks_BOCA Placement  Salary  \n",
       "0                 65          74    Placed  270000  \n",
       "1                 70          75    Placed  200000  \n",
       "2                 61          59    Placed  240000  \n",
       "3                 66          62    Placed  250000  \n",
       "4                 65          67    Placed  180000  "
      ]
     },
     "execution_count": 268,
     "metadata": {},
     "output_type": "execute_result"
    }
   ],
   "source": [
    "admission_df.head()"
   ]
  },
  {
   "cell_type": "code",
   "execution_count": 269,
   "metadata": {
    "scrolled": true
   },
   "outputs": [],
   "source": [
    "# admission_df.pop('SlNo')"
   ]
  },
  {
   "cell_type": "code",
   "execution_count": 270,
   "metadata": {},
   "outputs": [],
   "source": [
    "categorical = admission_df.select_dtypes('object').columns"
   ]
  },
  {
   "cell_type": "code",
   "execution_count": 271,
   "metadata": {},
   "outputs": [],
   "source": [
    "numerical = admission_df.select_dtypes(exclude='object').columns"
   ]
  },
  {
   "cell_type": "markdown",
   "metadata": {},
   "source": [
    "### 1. List out the numerical and categorical features in the dataset and mention the possible statistical hypothesis test for give features in the dataset(2 marks)"
   ]
  },
  {
   "cell_type": "code",
   "execution_count": 272,
   "metadata": {},
   "outputs": [
    {
     "data": {
      "text/plain": [
       "Index(['SlNo', 'Percent_SSC', 'Percent_HSC', 'Percent_Degree',\n",
       "       'Experience_Yrs', 'Percentile_ET', 'Percent_MBA', 'Marks_Communication',\n",
       "       'Marks_Projectwork', 'Marks_BOCA', 'Salary'],\n",
       "      dtype='object')"
      ]
     },
     "execution_count": 272,
     "metadata": {},
     "output_type": "execute_result"
    }
   ],
   "source": [
    "numerical"
   ]
  },
  {
   "cell_type": "code",
   "execution_count": 273,
   "metadata": {},
   "outputs": [
    {
     "data": {
      "text/plain": [
       "Index(['Gender', 'Board_SSC', 'Board_HSC', 'Stream_HSC', 'Course_Degree',\n",
       "       'Entrance_Test', 'Specialization_MBA', 'Placement'],\n",
       "      dtype='object')"
      ]
     },
     "execution_count": 273,
     "metadata": {},
     "output_type": "execute_result"
    }
   ],
   "source": [
    "categorical"
   ]
  },
  {
   "cell_type": "raw",
   "metadata": {},
   "source": [
    "Let, Our target variable is Salary which is numerical\n",
    "\n",
    "For Categorical\n",
    "    So, Anova test is the possible statistical hypothesis test with Salary vs Categorical variables to check significany between them.\n",
    "    \n",
    "For Numerical\n",
    "    So, Two sample T test is the possible statistical hypothesis test with Salary vs Numerical variables to check significany between them.\n",
    "    "
   ]
  },
  {
   "cell_type": "markdown",
   "metadata": {},
   "source": [
    "### 2. State the null and alternative hypothesis for any one of the test mention in the question number one(2 marks)"
   ]
  },
  {
   "cell_type": "raw",
   "metadata": {},
   "source": [
    "NUll Hypothesis (H0)      : No  differnece between means of variables.\n",
    "Alternate Hypothesis (H1) : There is a significant differnece between means of variables."
   ]
  },
  {
   "cell_type": "markdown",
   "metadata": {},
   "source": [
    "### 3. Now perform required statistical tests on the data to determine what are the significant features in the data with respect to target variable(95% C.I ). (5 Marks)"
   ]
  },
  {
   "cell_type": "markdown",
   "metadata": {},
   "source": [
    "## 2 sample t test"
   ]
  },
  {
   "cell_type": "code",
   "execution_count": 274,
   "metadata": {},
   "outputs": [
    {
     "data": {
      "text/plain": [
       "Index(['SlNo', 'Percent_SSC', 'Percent_HSC', 'Percent_Degree',\n",
       "       'Experience_Yrs', 'Percentile_ET', 'Percent_MBA', 'Marks_Communication',\n",
       "       'Marks_Projectwork', 'Marks_BOCA', 'Salary'],\n",
       "      dtype='object')"
      ]
     },
     "execution_count": 274,
     "metadata": {},
     "output_type": "execute_result"
    }
   ],
   "source": [
    "numerical"
   ]
  },
  {
   "cell_type": "code",
   "execution_count": 275,
   "metadata": {},
   "outputs": [],
   "source": [
    "def t_test(col):\n",
    "    return col, ttest_ind(admission_df[col],admission_df['Salary'])[1]"
   ]
  },
  {
   "cell_type": "code",
   "execution_count": 276,
   "metadata": {},
   "outputs": [],
   "source": [
    "from scipy.stats import ttest_ind"
   ]
  },
  {
   "cell_type": "code",
   "execution_count": 277,
   "metadata": {},
   "outputs": [],
   "source": [
    "# P_value with columns names"
   ]
  },
  {
   "cell_type": "code",
   "execution_count": 278,
   "metadata": {},
   "outputs": [
    {
     "data": {
      "text/plain": [
       "(Index(['SlNo', 'Percent_SSC', 'Percent_HSC', 'Percent_Degree',\n",
       "        'Experience_Yrs', 'Percentile_ET', 'Percent_MBA', 'Marks_Communication',\n",
       "        'Marks_Projectwork', 'Marks_BOCA', 'Salary'],\n",
       "       dtype='object'),\n",
       " array([6.67739137e-140, 5.14380256e-140, 5.13505774e-140, 5.12678603e-140,\n",
       "        4.52845134e-140, 5.04556225e-140, 5.11340641e-140, 5.10196938e-140,\n",
       "        5.18183588e-140, 5.14100507e-140, 1.00000000e+000]))"
      ]
     },
     "execution_count": 278,
     "metadata": {},
     "output_type": "execute_result"
    }
   ],
   "source": [
    "t_test(numerical)"
   ]
  },
  {
   "cell_type": "code",
   "execution_count": 279,
   "metadata": {},
   "outputs": [],
   "source": [
    "male = admission_df[admission_df[\"Gender\"]=='M']\n",
    "female = admission_df[admission_df[\"Gender\"]=='F']"
   ]
  },
  {
   "cell_type": "code",
   "execution_count": 280,
   "metadata": {},
   "outputs": [
    {
     "data": {
      "text/plain": [
       "Ttest_indResult(statistic=2.57570858963061, pvalue=0.010371783657249766)"
      ]
     },
     "execution_count": 280,
     "metadata": {},
     "output_type": "execute_result"
    }
   ],
   "source": [
    "score = ttest_ind(male['Salary'],female['Salary'])\n",
    "score"
   ]
  },
  {
   "cell_type": "markdown",
   "metadata": {},
   "source": [
    "## Anova Test "
   ]
  },
  {
   "cell_type": "code",
   "execution_count": 281,
   "metadata": {},
   "outputs": [
    {
     "data": {
      "text/plain": [
       "Index(['Gender', 'Board_SSC', 'Board_HSC', 'Stream_HSC', 'Course_Degree',\n",
       "       'Entrance_Test', 'Specialization_MBA', 'Placement'],\n",
       "      dtype='object')"
      ]
     },
     "execution_count": 281,
     "metadata": {},
     "output_type": "execute_result"
    }
   ],
   "source": [
    "categorical"
   ]
  },
  {
   "cell_type": "code",
   "execution_count": 282,
   "metadata": {},
   "outputs": [],
   "source": [
    "from scipy.stats import f_oneway"
   ]
  },
  {
   "cell_type": "code",
   "execution_count": 283,
   "metadata": {},
   "outputs": [
    {
     "data": {
      "text/plain": [
       "array(['Others', 'ICSE', 'CBSE'], dtype=object)"
      ]
     },
     "execution_count": 283,
     "metadata": {},
     "output_type": "execute_result"
    }
   ],
   "source": [
    "admission_df[\"Board_SSC\"].unique()"
   ]
  },
  {
   "cell_type": "code",
   "execution_count": 284,
   "metadata": {},
   "outputs": [],
   "source": [
    "others = admission_df[admission_df[\"Board_SSC\"]==\"Others\"]\n",
    "CBSE = admission_df[admission_df[\"Board_SSC\"]==\"CBSE\"]\n",
    "ICSE = admission_df[admission_df[\"Board_SSC\"]==\"ICSE\"]"
   ]
  },
  {
   "cell_type": "code",
   "execution_count": 285,
   "metadata": {},
   "outputs": [
    {
     "data": {
      "text/plain": [
       "F_onewayResult(statistic=0.5453489346394286, pvalue=0.5800831293908766)"
      ]
     },
     "execution_count": 285,
     "metadata": {},
     "output_type": "execute_result"
    }
   ],
   "source": [
    "Anova_test = f_oneway(others['Salary'],CBSE['Salary'],ICSE['Salary'])\n",
    "Anova_test"
   ]
  },
  {
   "cell_type": "code",
   "execution_count": 286,
   "metadata": {},
   "outputs": [
    {
     "data": {
      "text/plain": [
       "array(['Others', 'CBSE', 'ISC'], dtype=object)"
      ]
     },
     "execution_count": 286,
     "metadata": {},
     "output_type": "execute_result"
    }
   ],
   "source": [
    "admission_df[\"Board_HSC\"].unique()"
   ]
  },
  {
   "cell_type": "code",
   "execution_count": 287,
   "metadata": {},
   "outputs": [],
   "source": [
    "df_Others = admission_df[admission_df[\"Board_HSC\"]==\"Others\"]\n",
    "df_cbse = admission_df[admission_df[\"Board_HSC\"]==\"CBSE\"]\n",
    "df_ISC = admission_df[admission_df[\"Board_HSC\"]==\"ISC\"]"
   ]
  },
  {
   "cell_type": "code",
   "execution_count": 288,
   "metadata": {},
   "outputs": [
    {
     "data": {
      "text/plain": [
       "F_onewayResult(statistic=0.288768177728968, pvalue=0.7493467322696925)"
      ]
     },
     "execution_count": 288,
     "metadata": {},
     "output_type": "execute_result"
    }
   ],
   "source": [
    "Anova_test = f_oneway(df_Others['Salary'],df_cbse['Salary'],df_ISC['Salary'])\n",
    "Anova_test"
   ]
  },
  {
   "cell_type": "code",
   "execution_count": 289,
   "metadata": {},
   "outputs": [
    {
     "data": {
      "text/plain": [
       "array(['Commerce', 'Science', 'Arts'], dtype=object)"
      ]
     },
     "execution_count": 289,
     "metadata": {},
     "output_type": "execute_result"
    }
   ],
   "source": [
    "admission_df[\"Stream_HSC\"].unique()"
   ]
  },
  {
   "cell_type": "code",
   "execution_count": 290,
   "metadata": {},
   "outputs": [],
   "source": [
    "commerce = admission_df[admission_df[\"Stream_HSC\"]==\"Commerce\"]\n",
    "science = admission_df[admission_df[\"Stream_HSC\"]==\"Science\"]\n",
    "arts = admission_df[admission_df[\"Stream_HSC\"]==\"Arts\"]"
   ]
  },
  {
   "cell_type": "code",
   "execution_count": 291,
   "metadata": {
    "scrolled": true
   },
   "outputs": [
    {
     "data": {
      "text/plain": [
       "F_onewayResult(statistic=0.9378565284715169, pvalue=0.39235161561416954)"
      ]
     },
     "execution_count": 291,
     "metadata": {},
     "output_type": "execute_result"
    }
   ],
   "source": [
    "Anova_value = f_oneway(commerce['Salary'], arts['Salary'], science['Salary'])\n",
    "Anova_value"
   ]
  },
  {
   "cell_type": "code",
   "execution_count": 292,
   "metadata": {},
   "outputs": [
    {
     "data": {
      "text/plain": [
       "array(['MAT', nan, 'K-MAT', 'CAT', 'PGCET', 'GCET', 'G-MAT', 'XAT',\n",
       "       'G-SAT'], dtype=object)"
      ]
     },
     "execution_count": 292,
     "metadata": {},
     "output_type": "execute_result"
    }
   ],
   "source": [
    "admission_df[\"Entrance_Test\"].unique()"
   ]
  },
  {
   "cell_type": "code",
   "execution_count": 293,
   "metadata": {},
   "outputs": [],
   "source": [
    "df_Mat = admission_df[admission_df[\"Entrance_Test\"]==\"MAT\"]\n",
    "df_kmat = admission_df[admission_df[\"Entrance_Test\"]==\"K-MAT\"]\n",
    "df_cat = admission_df[admission_df[\"Entrance_Test\"]==\"CAT\"]\n",
    "df_pgcet = admission_df[admission_df[\"Entrance_Test\"]==\"PGCET\"]\n",
    "df_gcet = admission_df[admission_df[\"Entrance_Test\"]==\"GCET\"]\n",
    "df_gsat = admission_df[admission_df[\"Entrance_Test\"]==\"G-SAT\"]\n",
    "df_xat = admission_df[admission_df[\"Entrance_Test\"]==\"XAT\"]\n",
    "df_gmat = admission_df[admission_df[\"Entrance_Test\"]==\"G-MAT\"]"
   ]
  },
  {
   "cell_type": "code",
   "execution_count": 294,
   "metadata": {},
   "outputs": [
    {
     "name": "stdout",
     "output_type": "stream",
     "text": [
      "F_onewayResult(statistic=1.369119022476755, pvalue=0.2177183664120799)\n"
     ]
    }
   ],
   "source": [
    "print(f_oneway(df_Mat[\"Salary\"],df_kmat[\"Salary\"],df_cat[\"Salary\"],df_pgcet[\"Salary\"],df_gcet[\"Salary\"],df_gsat[\"Salary\"],df_xat[\"Salary\"],df_gmat[\"Salary\"]))"
   ]
  },
  {
   "cell_type": "code",
   "execution_count": 295,
   "metadata": {},
   "outputs": [
    {
     "data": {
      "text/plain": [
       "array(['Marketing & HR', 'Marketing & Finance', 'Marketing & IB'],\n",
       "      dtype=object)"
      ]
     },
     "execution_count": 295,
     "metadata": {},
     "output_type": "execute_result"
    }
   ],
   "source": [
    "admission_df[\"Specialization_MBA\"].unique()"
   ]
  },
  {
   "cell_type": "code",
   "execution_count": 296,
   "metadata": {},
   "outputs": [],
   "source": [
    "HR =   admission_df[admission_df[\"Specialization_MBA\"]==\"Marketing & Finance\"]\n",
    "Finance =  admission_df[admission_df[\"Specialization_MBA\"]==\"Marketing & HR\"]\n",
    "IB =  admission_df[admission_df[\"Specialization_MBA\"]==\"Marketing & IB\"]"
   ]
  },
  {
   "cell_type": "code",
   "execution_count": 297,
   "metadata": {},
   "outputs": [
    {
     "name": "stdout",
     "output_type": "stream",
     "text": [
      "F_onewayResult(statistic=1.8106456622904814, pvalue=0.16492766587692093)\n"
     ]
    }
   ],
   "source": [
    "print(f_oneway(HR[\"Salary\"],Finance[\"Salary\"],IB[\"Salary\"]))"
   ]
  },
  {
   "cell_type": "markdown",
   "metadata": {},
   "source": [
    "### Interpret the results (2 Marks)"
   ]
  },
  {
   "cell_type": "raw",
   "metadata": {},
   "source": [
    "for 95% confidence interval so hence for the features which are having p_values greater than 0.05 we reject the null hypothesis and for the features which have their p_values less than 0.05 we fail to reject null hypothesis."
   ]
  },
  {
   "cell_type": "code",
   "execution_count": null,
   "metadata": {},
   "outputs": [],
   "source": []
  },
  {
   "cell_type": "markdown",
   "metadata": {},
   "source": [
    "### 5. Build a model and find the coefficient and intercept value ?"
   ]
  },
  {
   "cell_type": "code",
   "execution_count": 298,
   "metadata": {},
   "outputs": [
    {
     "data": {
      "text/html": [
       "<div>\n",
       "<style scoped>\n",
       "    .dataframe tbody tr th:only-of-type {\n",
       "        vertical-align: middle;\n",
       "    }\n",
       "\n",
       "    .dataframe tbody tr th {\n",
       "        vertical-align: top;\n",
       "    }\n",
       "\n",
       "    .dataframe thead th {\n",
       "        text-align: right;\n",
       "    }\n",
       "</style>\n",
       "<table border=\"1\" class=\"dataframe\">\n",
       "  <thead>\n",
       "    <tr style=\"text-align: right;\">\n",
       "      <th></th>\n",
       "      <th>SlNo</th>\n",
       "      <th>Gender</th>\n",
       "      <th>Percent_SSC</th>\n",
       "      <th>Board_SSC</th>\n",
       "      <th>Percent_HSC</th>\n",
       "      <th>Board_HSC</th>\n",
       "      <th>Stream_HSC</th>\n",
       "      <th>Percent_Degree</th>\n",
       "      <th>Course_Degree</th>\n",
       "      <th>Experience_Yrs</th>\n",
       "      <th>Entrance_Test</th>\n",
       "      <th>Percentile_ET</th>\n",
       "      <th>Percent_MBA</th>\n",
       "      <th>Specialization_MBA</th>\n",
       "      <th>Marks_Communication</th>\n",
       "      <th>Marks_Projectwork</th>\n",
       "      <th>Marks_BOCA</th>\n",
       "      <th>Placement</th>\n",
       "      <th>Salary</th>\n",
       "    </tr>\n",
       "  </thead>\n",
       "  <tbody>\n",
       "    <tr>\n",
       "      <th>0</th>\n",
       "      <td>1</td>\n",
       "      <td>M</td>\n",
       "      <td>62.00</td>\n",
       "      <td>Others</td>\n",
       "      <td>88.00</td>\n",
       "      <td>Others</td>\n",
       "      <td>Commerce</td>\n",
       "      <td>52.00</td>\n",
       "      <td>Science</td>\n",
       "      <td>0</td>\n",
       "      <td>MAT</td>\n",
       "      <td>55.0</td>\n",
       "      <td>58.80</td>\n",
       "      <td>Marketing &amp; HR</td>\n",
       "      <td>50</td>\n",
       "      <td>65</td>\n",
       "      <td>74</td>\n",
       "      <td>Placed</td>\n",
       "      <td>270000</td>\n",
       "    </tr>\n",
       "    <tr>\n",
       "      <th>1</th>\n",
       "      <td>2</td>\n",
       "      <td>M</td>\n",
       "      <td>76.33</td>\n",
       "      <td>ICSE</td>\n",
       "      <td>75.33</td>\n",
       "      <td>Others</td>\n",
       "      <td>Science</td>\n",
       "      <td>75.48</td>\n",
       "      <td>Computer Applications</td>\n",
       "      <td>1</td>\n",
       "      <td>MAT</td>\n",
       "      <td>86.5</td>\n",
       "      <td>66.28</td>\n",
       "      <td>Marketing &amp; Finance</td>\n",
       "      <td>69</td>\n",
       "      <td>70</td>\n",
       "      <td>75</td>\n",
       "      <td>Placed</td>\n",
       "      <td>200000</td>\n",
       "    </tr>\n",
       "    <tr>\n",
       "      <th>2</th>\n",
       "      <td>3</td>\n",
       "      <td>M</td>\n",
       "      <td>72.00</td>\n",
       "      <td>Others</td>\n",
       "      <td>78.00</td>\n",
       "      <td>Others</td>\n",
       "      <td>Commerce</td>\n",
       "      <td>66.63</td>\n",
       "      <td>Engineering</td>\n",
       "      <td>0</td>\n",
       "      <td>NaN</td>\n",
       "      <td>0.0</td>\n",
       "      <td>52.91</td>\n",
       "      <td>Marketing &amp; Finance</td>\n",
       "      <td>50</td>\n",
       "      <td>61</td>\n",
       "      <td>59</td>\n",
       "      <td>Placed</td>\n",
       "      <td>240000</td>\n",
       "    </tr>\n",
       "    <tr>\n",
       "      <th>3</th>\n",
       "      <td>4</td>\n",
       "      <td>M</td>\n",
       "      <td>60.00</td>\n",
       "      <td>CBSE</td>\n",
       "      <td>63.00</td>\n",
       "      <td>CBSE</td>\n",
       "      <td>Arts</td>\n",
       "      <td>58.00</td>\n",
       "      <td>Management</td>\n",
       "      <td>0</td>\n",
       "      <td>MAT</td>\n",
       "      <td>75.0</td>\n",
       "      <td>57.80</td>\n",
       "      <td>Marketing &amp; Finance</td>\n",
       "      <td>54</td>\n",
       "      <td>66</td>\n",
       "      <td>62</td>\n",
       "      <td>Placed</td>\n",
       "      <td>250000</td>\n",
       "    </tr>\n",
       "    <tr>\n",
       "      <th>4</th>\n",
       "      <td>5</td>\n",
       "      <td>M</td>\n",
       "      <td>61.00</td>\n",
       "      <td>CBSE</td>\n",
       "      <td>55.00</td>\n",
       "      <td>ISC</td>\n",
       "      <td>Science</td>\n",
       "      <td>54.00</td>\n",
       "      <td>Engineering</td>\n",
       "      <td>1</td>\n",
       "      <td>MAT</td>\n",
       "      <td>66.0</td>\n",
       "      <td>59.43</td>\n",
       "      <td>Marketing &amp; HR</td>\n",
       "      <td>52</td>\n",
       "      <td>65</td>\n",
       "      <td>67</td>\n",
       "      <td>Placed</td>\n",
       "      <td>180000</td>\n",
       "    </tr>\n",
       "  </tbody>\n",
       "</table>\n",
       "</div>"
      ],
      "text/plain": [
       "   SlNo Gender  Percent_SSC Board_SSC  Percent_HSC Board_HSC Stream_HSC  \\\n",
       "0     1      M        62.00    Others        88.00    Others   Commerce   \n",
       "1     2      M        76.33      ICSE        75.33    Others    Science   \n",
       "2     3      M        72.00    Others        78.00    Others   Commerce   \n",
       "3     4      M        60.00      CBSE        63.00      CBSE       Arts   \n",
       "4     5      M        61.00      CBSE        55.00       ISC    Science   \n",
       "\n",
       "   Percent_Degree          Course_Degree  Experience_Yrs Entrance_Test  \\\n",
       "0           52.00                Science               0           MAT   \n",
       "1           75.48  Computer Applications               1           MAT   \n",
       "2           66.63            Engineering               0           NaN   \n",
       "3           58.00             Management               0           MAT   \n",
       "4           54.00            Engineering               1           MAT   \n",
       "\n",
       "   Percentile_ET  Percent_MBA   Specialization_MBA  Marks_Communication  \\\n",
       "0           55.0        58.80       Marketing & HR                   50   \n",
       "1           86.5        66.28  Marketing & Finance                   69   \n",
       "2            0.0        52.91  Marketing & Finance                   50   \n",
       "3           75.0        57.80  Marketing & Finance                   54   \n",
       "4           66.0        59.43       Marketing & HR                   52   \n",
       "\n",
       "   Marks_Projectwork  Marks_BOCA Placement  Salary  \n",
       "0                 65          74    Placed  270000  \n",
       "1                 70          75    Placed  200000  \n",
       "2                 61          59    Placed  240000  \n",
       "3                 66          62    Placed  250000  \n",
       "4                 65          67    Placed  180000  "
      ]
     },
     "execution_count": 298,
     "metadata": {},
     "output_type": "execute_result"
    }
   ],
   "source": [
    "admission_df.head()"
   ]
  },
  {
   "cell_type": "code",
   "execution_count": 299,
   "metadata": {},
   "outputs": [
    {
     "name": "stdout",
     "output_type": "stream",
     "text": [
      "<class 'pandas.core.frame.DataFrame'>\n",
      "RangeIndex: 391 entries, 0 to 390\n",
      "Data columns (total 19 columns):\n",
      "SlNo                   391 non-null int64\n",
      "Gender                 391 non-null object\n",
      "Percent_SSC            391 non-null float64\n",
      "Board_SSC              391 non-null object\n",
      "Percent_HSC            391 non-null float64\n",
      "Board_HSC              391 non-null object\n",
      "Stream_HSC             391 non-null object\n",
      "Percent_Degree         391 non-null float64\n",
      "Course_Degree          391 non-null object\n",
      "Experience_Yrs         391 non-null int64\n",
      "Entrance_Test          324 non-null object\n",
      "Percentile_ET          391 non-null float64\n",
      "Percent_MBA            391 non-null float64\n",
      "Specialization_MBA     391 non-null object\n",
      "Marks_Communication    391 non-null int64\n",
      "Marks_Projectwork      391 non-null int64\n",
      "Marks_BOCA             391 non-null int64\n",
      "Placement              391 non-null object\n",
      "Salary                 391 non-null int64\n",
      "dtypes: float64(5), int64(6), object(8)\n",
      "memory usage: 58.1+ KB\n"
     ]
    }
   ],
   "source": [
    "admission_df.info()"
   ]
  },
  {
   "cell_type": "code",
   "execution_count": 300,
   "metadata": {},
   "outputs": [
    {
     "data": {
      "text/plain": [
       "SlNo                    0\n",
       "Gender                  0\n",
       "Percent_SSC             0\n",
       "Board_SSC               0\n",
       "Percent_HSC             0\n",
       "Board_HSC               0\n",
       "Stream_HSC              0\n",
       "Percent_Degree          0\n",
       "Course_Degree           0\n",
       "Experience_Yrs          0\n",
       "Entrance_Test          67\n",
       "Percentile_ET           0\n",
       "Percent_MBA             0\n",
       "Specialization_MBA      0\n",
       "Marks_Communication     0\n",
       "Marks_Projectwork       0\n",
       "Marks_BOCA              0\n",
       "Placement               0\n",
       "Salary                  0\n",
       "dtype: int64"
      ]
     },
     "execution_count": 300,
     "metadata": {},
     "output_type": "execute_result"
    }
   ],
   "source": [
    "admission_df.isnull().sum()"
   ]
  },
  {
   "cell_type": "code",
   "execution_count": 301,
   "metadata": {},
   "outputs": [
    {
     "data": {
      "text/plain": [
       "MAT      265\n",
       "K-MAT     24\n",
       "CAT       22\n",
       "PGCET      8\n",
       "GCET       2\n",
       "XAT        1\n",
       "G-SAT      1\n",
       "G-MAT      1\n",
       "Name: Entrance_Test, dtype: int64"
      ]
     },
     "execution_count": 301,
     "metadata": {},
     "output_type": "execute_result"
    }
   ],
   "source": [
    "admission_df[\"Entrance_Test\"].value_counts()"
   ]
  },
  {
   "cell_type": "code",
   "execution_count": 302,
   "metadata": {},
   "outputs": [],
   "source": [
    "admission_df[\"Entrance_Test\"].fillna(value='MAT',inplace=True)"
   ]
  },
  {
   "cell_type": "code",
   "execution_count": 303,
   "metadata": {},
   "outputs": [
    {
     "data": {
      "text/plain": [
       "SlNo                   0\n",
       "Gender                 0\n",
       "Percent_SSC            0\n",
       "Board_SSC              0\n",
       "Percent_HSC            0\n",
       "Board_HSC              0\n",
       "Stream_HSC             0\n",
       "Percent_Degree         0\n",
       "Course_Degree          0\n",
       "Experience_Yrs         0\n",
       "Entrance_Test          0\n",
       "Percentile_ET          0\n",
       "Percent_MBA            0\n",
       "Specialization_MBA     0\n",
       "Marks_Communication    0\n",
       "Marks_Projectwork      0\n",
       "Marks_BOCA             0\n",
       "Placement              0\n",
       "Salary                 0\n",
       "dtype: int64"
      ]
     },
     "execution_count": 303,
     "metadata": {},
     "output_type": "execute_result"
    }
   ],
   "source": [
    "admission_df.isnull().sum()"
   ]
  },
  {
   "cell_type": "code",
   "execution_count": 304,
   "metadata": {},
   "outputs": [
    {
     "data": {
      "text/plain": [
       "Index(['Gender', 'Board_SSC', 'Board_HSC', 'Stream_HSC', 'Course_Degree',\n",
       "       'Entrance_Test', 'Specialization_MBA', 'Placement'],\n",
       "      dtype='object')"
      ]
     },
     "execution_count": 304,
     "metadata": {},
     "output_type": "execute_result"
    }
   ],
   "source": [
    "categorical"
   ]
  },
  {
   "cell_type": "code",
   "execution_count": 305,
   "metadata": {},
   "outputs": [],
   "source": [
    "df_categorical = pd.get_dummies(admission_df[[\"Gender\",'Board_SSC',\"Board_HSC\",\"Stream_HSC\",\"Course_Degree\",\"Entrance_Test\",\"Specialization_MBA\",\"Placement\"]],drop_first=True)"
   ]
  },
  {
   "cell_type": "code",
   "execution_count": null,
   "metadata": {},
   "outputs": [],
   "source": []
  },
  {
   "cell_type": "code",
   "execution_count": 307,
   "metadata": {},
   "outputs": [
    {
     "data": {
      "text/plain": [
       "(391, 19)"
      ]
     },
     "execution_count": 307,
     "metadata": {},
     "output_type": "execute_result"
    }
   ],
   "source": [
    "admission_df.shape"
   ]
  },
  {
   "cell_type": "code",
   "execution_count": 308,
   "metadata": {},
   "outputs": [],
   "source": [
    "admission_df.drop([\"Gender\",'Board_SSC',\"Board_HSC\",\"Stream_HSC\",\"Course_Degree\",\"Entrance_Test\",\n",
    "                   \"Specialization_MBA\",\"Placement\"], axis=1, inplace=True)"
   ]
  },
  {
   "cell_type": "code",
   "execution_count": 309,
   "metadata": {},
   "outputs": [
    {
     "data": {
      "text/plain": [
       "(391, 11)"
      ]
     },
     "execution_count": 309,
     "metadata": {},
     "output_type": "execute_result"
    }
   ],
   "source": [
    "admission_df.shape"
   ]
  },
  {
   "cell_type": "code",
   "execution_count": 310,
   "metadata": {},
   "outputs": [],
   "source": [
    "final_dataframe = pd.concat([admission_df,df_categorical],axis=1)"
   ]
  },
  {
   "cell_type": "code",
   "execution_count": 311,
   "metadata": {},
   "outputs": [
    {
     "data": {
      "text/plain": [
       "(391, 34)"
      ]
     },
     "execution_count": 311,
     "metadata": {},
     "output_type": "execute_result"
    }
   ],
   "source": [
    "final_dataframe.shape"
   ]
  },
  {
   "cell_type": "code",
   "execution_count": 313,
   "metadata": {},
   "outputs": [],
   "source": [
    "x = final_dataframe.drop(\"Salary\",axis=1)"
   ]
  },
  {
   "cell_type": "code",
   "execution_count": 314,
   "metadata": {},
   "outputs": [],
   "source": [
    "y = final_dataframe[\"Salary\"]"
   ]
  },
  {
   "cell_type": "code",
   "execution_count": 315,
   "metadata": {},
   "outputs": [],
   "source": [
    "from sklearn.model_selection import train_test_split"
   ]
  },
  {
   "cell_type": "code",
   "execution_count": 317,
   "metadata": {},
   "outputs": [],
   "source": [
    "X_train, X_test, y_train, y_test = train_test_split(x, y, test_size = 0.3, random_state = 42)"
   ]
  },
  {
   "cell_type": "code",
   "execution_count": 318,
   "metadata": {},
   "outputs": [],
   "source": [
    "from sklearn.linear_model import LinearRegression"
   ]
  },
  {
   "cell_type": "code",
   "execution_count": 319,
   "metadata": {},
   "outputs": [
    {
     "data": {
      "text/plain": [
       "LinearRegression(copy_X=True, fit_intercept=True, n_jobs=None, normalize=False)"
      ]
     },
     "execution_count": 319,
     "metadata": {},
     "output_type": "execute_result"
    }
   ],
   "source": [
    "regressor = LinearRegression()\n",
    "regressor.fit(X_train, y_train)"
   ]
  },
  {
   "cell_type": "markdown",
   "metadata": {},
   "source": [
    "#### Coefficients value"
   ]
  },
  {
   "cell_type": "code",
   "execution_count": 77,
   "metadata": {},
   "outputs": [
    {
     "data": {
      "text/plain": [
       "array([-2.92437240e+02,  3.51685962e+02,  8.00339317e+02,  2.08519210e+04,\n",
       "        1.67879549e+01,  5.05711097e+02,  1.40014186e+03,  2.09031458e+02,\n",
       "        2.67892489e+02,  3.81058202e+04, -3.32552908e+04, -1.73339452e+04,\n",
       "        3.01400986e+04,  3.27732378e+03,  5.49553018e+04,  4.35303375e+04,\n",
       "       -4.45429381e+04, -2.94353043e+04,  1.21738414e+04, -4.58405607e+04,\n",
       "       -4.78496264e+04, -5.93478320e+04, -7.85734901e+03, -7.39009681e+04,\n",
       "       -5.50044865e+04,  3.31471362e+04, -4.03222235e+04, -9.67365867e+03,\n",
       "       -9.33578215e+03, -2.84382378e+04, -2.74731288e+04,  2.72347791e+05])"
      ]
     },
     "execution_count": 77,
     "metadata": {},
     "output_type": "execute_result"
    }
   ],
   "source": [
    "regressor.coef_ "
   ]
  },
  {
   "cell_type": "markdown",
   "metadata": {},
   "source": [
    "#### Intercept value "
   ]
  },
  {
   "cell_type": "code",
   "execution_count": 323,
   "metadata": {},
   "outputs": [
    {
     "data": {
      "text/plain": [
       "-163693.0913703837"
      ]
     },
     "execution_count": 323,
     "metadata": {},
     "output_type": "execute_result"
    }
   ],
   "source": [
    "regressor.intercept_ "
   ]
  },
  {
   "cell_type": "code",
   "execution_count": null,
   "metadata": {},
   "outputs": [],
   "source": []
  }
 ],
 "metadata": {
  "kernelspec": {
   "display_name": "Python 3",
   "language": "python",
   "name": "python3"
  },
  "language_info": {
   "codemirror_mode": {
    "name": "ipython",
    "version": 3
   },
   "file_extension": ".py",
   "mimetype": "text/x-python",
   "name": "python",
   "nbconvert_exporter": "python",
   "pygments_lexer": "ipython3",
   "version": "3.7.3"
  }
 },
 "nbformat": 4,
 "nbformat_minor": 2
}
